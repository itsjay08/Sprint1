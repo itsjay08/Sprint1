{
 "cells": [
  {
   "cell_type": "code",
   "execution_count": 1,
   "metadata": {},
   "outputs": [],
   "source": [
    "import pandas as pd\n",
    "import numpy as np\n",
    "import matplotlib.pyplot as plt\n",
    "import folium"
   ]
  },
  {
   "cell_type": "code",
   "execution_count": 2,
   "metadata": {},
   "outputs": [
    {
     "data": {
      "text/html": [
       "<div>\n",
       "<style scoped>\n",
       "    .dataframe tbody tr th:only-of-type {\n",
       "        vertical-align: middle;\n",
       "    }\n",
       "\n",
       "    .dataframe tbody tr th {\n",
       "        vertical-align: top;\n",
       "    }\n",
       "\n",
       "    .dataframe thead th {\n",
       "        text-align: right;\n",
       "    }\n",
       "</style>\n",
       "<table border=\"1\" class=\"dataframe\">\n",
       "  <thead>\n",
       "    <tr style=\"text-align: right;\">\n",
       "      <th></th>\n",
       "      <th>student_ratio</th>\n",
       "      <th>school.mooe</th>\n",
       "      <th>mooe_per_student</th>\n",
       "    </tr>\n",
       "  </thead>\n",
       "  <tbody>\n",
       "    <tr>\n",
       "      <th>0</th>\n",
       "      <td>37.190476</td>\n",
       "      <td>341000.0</td>\n",
       "      <td>436.619718</td>\n",
       "    </tr>\n",
       "    <tr>\n",
       "      <th>1</th>\n",
       "      <td>25.833333</td>\n",
       "      <td>275000.0</td>\n",
       "      <td>591.397849</td>\n",
       "    </tr>\n",
       "    <tr>\n",
       "      <th>2</th>\n",
       "      <td>25.000000</td>\n",
       "      <td>132000.0</td>\n",
       "      <td>754.285714</td>\n",
       "    </tr>\n",
       "    <tr>\n",
       "      <th>3</th>\n",
       "      <td>25.571429</td>\n",
       "      <td>135000.0</td>\n",
       "      <td>754.189944</td>\n",
       "    </tr>\n",
       "    <tr>\n",
       "      <th>4</th>\n",
       "      <td>30.111111</td>\n",
       "      <td>182000.0</td>\n",
       "      <td>671.586716</td>\n",
       "    </tr>\n",
       "    <tr>\n",
       "      <th>...</th>\n",
       "      <td>...</td>\n",
       "      <td>...</td>\n",
       "      <td>...</td>\n",
       "    </tr>\n",
       "    <tr>\n",
       "      <th>36036</th>\n",
       "      <td>39.952381</td>\n",
       "      <td>379000.0</td>\n",
       "      <td>451.728248</td>\n",
       "    </tr>\n",
       "    <tr>\n",
       "      <th>36037</th>\n",
       "      <td>49.750000</td>\n",
       "      <td>325000.0</td>\n",
       "      <td>408.291457</td>\n",
       "    </tr>\n",
       "    <tr>\n",
       "      <th>36038</th>\n",
       "      <td>82.025641</td>\n",
       "      <td>1003000.0</td>\n",
       "      <td>313.535480</td>\n",
       "    </tr>\n",
       "    <tr>\n",
       "      <th>36039</th>\n",
       "      <td>35.195652</td>\n",
       "      <td>684000.0</td>\n",
       "      <td>422.483014</td>\n",
       "    </tr>\n",
       "    <tr>\n",
       "      <th>36040</th>\n",
       "      <td>40.173913</td>\n",
       "      <td>1107000.0</td>\n",
       "      <td>399.350649</td>\n",
       "    </tr>\n",
       "  </tbody>\n",
       "</table>\n",
       "<p>36041 rows × 3 columns</p>\n",
       "</div>"
      ],
      "text/plain": [
       "       student_ratio  school.mooe  mooe_per_student\n",
       "0          37.190476     341000.0        436.619718\n",
       "1          25.833333     275000.0        591.397849\n",
       "2          25.000000     132000.0        754.285714\n",
       "3          25.571429     135000.0        754.189944\n",
       "4          30.111111     182000.0        671.586716\n",
       "...              ...          ...               ...\n",
       "36036      39.952381     379000.0        451.728248\n",
       "36037      49.750000     325000.0        408.291457\n",
       "36038      82.025641    1003000.0        313.535480\n",
       "36039      35.195652     684000.0        422.483014\n",
       "36040      40.173913    1107000.0        399.350649\n",
       "\n",
       "[36041 rows x 3 columns]"
      ]
     },
     "execution_count": 2,
     "metadata": {},
     "output_type": "execute_result"
    }
   ],
   "source": [
    "#Importing libraries\n",
    "import pandas as pd\n",
    "from sklearn.datasets import load_iris\n",
    "from sklearn.cluster import AgglomerativeClustering\n",
    "import numpy as np\n",
    "import matplotlib.pyplot as plt\n",
    "from scipy.cluster.hierarchy import dendrogram , linkage\n",
    " \n",
    "#Getting the data ready\n",
    "#Selecting certain features based on which clustering is done\n",
    "df1= pd.read_csv(\"FinalSprint1v2.csv\")\n",
    "\n",
    "df2= df1[[\"student_ratio\", \"school.mooe\", \"mooe_per_student\"]]\n",
    "df2"
   ]
  },
  {
   "cell_type": "code",
   "execution_count": 3,
   "metadata": {},
   "outputs": [
    {
     "data": {
      "text/plain": [
       "mooe_per_student\n",
       "False    36039\n",
       "True         2\n",
       "dtype: int64"
      ]
     },
     "execution_count": 3,
     "metadata": {},
     "output_type": "execute_result"
    }
   ],
   "source": [
    "ds = df2.isin([np.inf, -np.inf]).sort_values(\"student_ratio\", ascending= False)\n",
    "ds.groupby(\"mooe_per_student\").size()"
   ]
  },
  {
   "cell_type": "code",
   "execution_count": 4,
   "metadata": {},
   "outputs": [
    {
     "data": {
      "text/html": [
       "<div>\n",
       "<style scoped>\n",
       "    .dataframe tbody tr th:only-of-type {\n",
       "        vertical-align: middle;\n",
       "    }\n",
       "\n",
       "    .dataframe tbody tr th {\n",
       "        vertical-align: top;\n",
       "    }\n",
       "\n",
       "    .dataframe thead th {\n",
       "        text-align: right;\n",
       "    }\n",
       "</style>\n",
       "<table border=\"1\" class=\"dataframe\">\n",
       "  <thead>\n",
       "    <tr style=\"text-align: right;\">\n",
       "      <th></th>\n",
       "      <th>student_ratio</th>\n",
       "      <th>school.mooe</th>\n",
       "      <th>mooe_per_student</th>\n",
       "    </tr>\n",
       "  </thead>\n",
       "  <tbody>\n",
       "    <tr>\n",
       "      <th>0</th>\n",
       "      <td>37.190476</td>\n",
       "      <td>341000.0</td>\n",
       "      <td>436.619718</td>\n",
       "    </tr>\n",
       "    <tr>\n",
       "      <th>1</th>\n",
       "      <td>25.833333</td>\n",
       "      <td>275000.0</td>\n",
       "      <td>591.397849</td>\n",
       "    </tr>\n",
       "    <tr>\n",
       "      <th>2</th>\n",
       "      <td>25.000000</td>\n",
       "      <td>132000.0</td>\n",
       "      <td>754.285714</td>\n",
       "    </tr>\n",
       "    <tr>\n",
       "      <th>3</th>\n",
       "      <td>25.571429</td>\n",
       "      <td>135000.0</td>\n",
       "      <td>754.189944</td>\n",
       "    </tr>\n",
       "    <tr>\n",
       "      <th>4</th>\n",
       "      <td>30.111111</td>\n",
       "      <td>182000.0</td>\n",
       "      <td>671.586716</td>\n",
       "    </tr>\n",
       "    <tr>\n",
       "      <th>...</th>\n",
       "      <td>...</td>\n",
       "      <td>...</td>\n",
       "      <td>...</td>\n",
       "    </tr>\n",
       "    <tr>\n",
       "      <th>36036</th>\n",
       "      <td>39.952381</td>\n",
       "      <td>379000.0</td>\n",
       "      <td>451.728248</td>\n",
       "    </tr>\n",
       "    <tr>\n",
       "      <th>36037</th>\n",
       "      <td>49.750000</td>\n",
       "      <td>325000.0</td>\n",
       "      <td>408.291457</td>\n",
       "    </tr>\n",
       "    <tr>\n",
       "      <th>36038</th>\n",
       "      <td>82.025641</td>\n",
       "      <td>1003000.0</td>\n",
       "      <td>313.535480</td>\n",
       "    </tr>\n",
       "    <tr>\n",
       "      <th>36039</th>\n",
       "      <td>35.195652</td>\n",
       "      <td>684000.0</td>\n",
       "      <td>422.483014</td>\n",
       "    </tr>\n",
       "    <tr>\n",
       "      <th>36040</th>\n",
       "      <td>40.173913</td>\n",
       "      <td>1107000.0</td>\n",
       "      <td>399.350649</td>\n",
       "    </tr>\n",
       "  </tbody>\n",
       "</table>\n",
       "<p>35941 rows × 3 columns</p>\n",
       "</div>"
      ],
      "text/plain": [
       "       student_ratio  school.mooe  mooe_per_student\n",
       "0          37.190476     341000.0        436.619718\n",
       "1          25.833333     275000.0        591.397849\n",
       "2          25.000000     132000.0        754.285714\n",
       "3          25.571429     135000.0        754.189944\n",
       "4          30.111111     182000.0        671.586716\n",
       "...              ...          ...               ...\n",
       "36036      39.952381     379000.0        451.728248\n",
       "36037      49.750000     325000.0        408.291457\n",
       "36038      82.025641    1003000.0        313.535480\n",
       "36039      35.195652     684000.0        422.483014\n",
       "36040      40.173913    1107000.0        399.350649\n",
       "\n",
       "[35941 rows x 3 columns]"
      ]
     },
     "execution_count": 4,
     "metadata": {},
     "output_type": "execute_result"
    }
   ],
   "source": [
    "df = df2[np.isfinite(df2).all(1)]\n",
    "df"
   ]
  },
  {
   "cell_type": "code",
   "execution_count": 5,
   "metadata": {},
   "outputs": [],
   "source": [
    "from sklearn.preprocessing import StandardScaler\n",
    "\n",
    "scaler = StandardScaler()\n",
    "df_scaled_ss = scaler.fit_transform(df)"
   ]
  },
  {
   "cell_type": "code",
   "execution_count": 6,
   "metadata": {},
   "outputs": [
    {
     "name": "stdout",
     "output_type": "stream",
     "text": [
      "-2.3775786917624675\n",
      "34.7734245717847\n"
     ]
    }
   ],
   "source": [
    "print(df_scaled_ss.min())\n",
    "print(df_scaled_ss.max())"
   ]
  },
  {
   "cell_type": "code",
   "execution_count": 7,
   "metadata": {},
   "outputs": [
    {
     "data": {
      "text/plain": [
       "array([[-0.11969929,  0.56886082, -0.63173455],\n",
       "       [-0.84020269,  0.28089798, -0.33113497],\n",
       "       [-0.89306981, -0.34302149, -0.01478523],\n",
       "       ...,\n",
       "       [ 2.72466824,  3.45721532, -0.8707804 ],\n",
       "       [-0.24625203,  2.06539495, -0.6591899 ],\n",
       "       [ 0.06957158,  3.91097494, -0.704116  ]])"
      ]
     },
     "execution_count": 7,
     "metadata": {},
     "output_type": "execute_result"
    }
   ],
   "source": [
    "df_scaled_ss"
   ]
  },
  {
   "cell_type": "code",
   "execution_count": null,
   "metadata": {},
   "outputs": [],
   "source": [
    "#Linkage Matrix\n",
    "Z = linkage(df_scaled_ss, method = 'ward')\n",
    "#plotting dendrogram\n",
    "dendro = dendrogram(Z)\n",
    "plt.title('Dendrogram Ward')\n",
    "plt.ylabel('Euclidean distance')\n",
    "plt.axhline(y=15, color='r', linestyle='--')\n",
    "plt.show()"
   ]
  },
  {
   "cell_type": "code",
   "execution_count": 111,
   "metadata": {},
   "outputs": [
    {
     "data": {
      "text/plain": [
       "0.8226303613177273"
      ]
     },
     "execution_count": 111,
     "metadata": {},
     "output_type": "execute_result"
    }
   ],
   "source": [
    "from scipy.cluster.hierarchy import cophenet\n",
    "from scipy.spatial.distance import pdist\n",
    "\n",
    "c, coph_dists = cophenet(Z, pdist(df_scaled_ss))\n",
    "ward_c = c\n",
    "ward_c"
   ]
  },
  {
   "cell_type": "code",
   "execution_count": 112,
   "metadata": {},
   "outputs": [
    {
     "data": {
      "image/png": "[encoded data removed]",
      "text/plain": [
       "<Figure size 576x360 with 1 Axes>"
      ]
     },
     "metadata": {},
     "output_type": "display_data"
    }
   ],
   "source": [
    "from sklearn.datasets import load_iris\n",
    "from sklearn.cluster import AgglomerativeClustering\n",
    "import numpy as np\n",
    "import matplotlib.pyplot as plt\n",
    " \n",
    "data = load_iris()\n",
    "df = data.data\n",
    "df = df[:,1:3]\n",
    "\n",
    "agg_clustering = AgglomerativeClustering(n_clusters = 2, affinity = 'euclidean', linkage = 'ward')\n",
    " \n",
    "#predicting the labels\n",
    "labels = agg_clustering.fit_predict(df_scaled_ss)\n",
    " \n",
    "#Plotting the results\n",
    " \n",
    "plt.figure(figsize = (8,5))\n",
    "plt.scatter(df[labels == 0 , 0] , df[labels == 0 , 1] , c = 'red')\n",
    "plt.scatter(df[labels == 1 , 0] , df[labels == 1 , 1] , c = 'blue')\n",
    "plt.show()"
   ]
  },
  {
   "cell_type": "code",
   "execution_count": 113,
   "metadata": {},
   "outputs": [
    {
     "data": {
      "image/png": "[encoded data removed]",
      "text/plain": [
       "<Figure size 432x288 with 1 Axes>"
      ]
     },
     "metadata": {},
     "output_type": "display_data"
    }
   ],
   "source": [
    "#Importing libraries\n",
    "from sklearn.datasets import load_iris\n",
    "from sklearn.cluster import AgglomerativeClustering\n",
    "import numpy as np\n",
    "import matplotlib.pyplot as plt\n",
    "from scipy.cluster.hierarchy import dendrogram , linkage\n",
    " \n",
    "data = load_iris()\n",
    "df = data.data\n",
    "df = df[:,1:3]\n",
    " \n",
    "#Linkage Matrix\n",
    "Z = linkage(df, method = 'single')\n",
    " \n",
    "#plotting dendrogram\n",
    "dendro = dendrogram(Z)\n",
    "plt.title('Dendrogram Single')\n",
    "plt.ylabel('Euclidean distance')\n",
    "plt.show()"
   ]
  },
  {
   "cell_type": "code",
   "execution_count": 114,
   "metadata": {},
   "outputs": [
    {
     "data": {
      "text/plain": [
       "0.8050778130843238"
      ]
     },
     "execution_count": 114,
     "metadata": {},
     "output_type": "execute_result"
    }
   ],
   "source": [
    "from scipy.cluster.hierarchy import cophenet\n",
    "from scipy.spatial.distance import pdist\n",
    "\n",
    "c, coph_dists = cophenet(Z, pdist(df_scaled_ss))\n",
    "single_c = c\n",
    "single_c"
   ]
  },
  {
   "cell_type": "code",
   "execution_count": 115,
   "metadata": {},
   "outputs": [
    {
     "data": {
      "image/png": "[encoded data removed]",
      "text/plain": [
       "<Figure size 576x360 with 1 Axes>"
      ]
     },
     "metadata": {},
     "output_type": "display_data"
    }
   ],
   "source": [
    "from sklearn.datasets import load_iris\n",
    "from sklearn.cluster import AgglomerativeClustering\n",
    "import numpy as np\n",
    "import matplotlib.pyplot as plt\n",
    " \n",
    "data = load_iris()\n",
    "df = data.data\n",
    "df = df[:,1:3]\n",
    "\n",
    "agg_clustering = AgglomerativeClustering(n_clusters = 2, affinity = 'euclidean', linkage = 'single')\n",
    " \n",
    "#predicting the labels\n",
    "labels = agg_clustering.fit_predict(df_scaled_ss)\n",
    " \n",
    "#Plotting the results\n",
    " \n",
    "plt.figure(figsize = (8,5))\n",
    "plt.scatter(df[labels == 0 , 0] , df[labels == 0 , 1] , c = 'red')\n",
    "plt.scatter(df[labels == 1 , 0] , df[labels == 1 , 1] , c = 'blue')\n",
    "plt.show()"
   ]
  },
  {
   "cell_type": "code",
   "execution_count": 116,
   "metadata": {},
   "outputs": [
    {
     "data": {
      "image/png": "[encoded data removed]",
      "text/plain": [
       "<Figure size 432x288 with 1 Axes>"
      ]
     },
     "metadata": {},
     "output_type": "display_data"
    }
   ],
   "source": [
    "#Importing libraries\n",
    "from sklearn.datasets import load_iris\n",
    "from sklearn.cluster import AgglomerativeClustering\n",
    "import numpy as np\n",
    "import matplotlib.pyplot as plt\n",
    "from scipy.cluster.hierarchy import dendrogram , linkage\n",
    " \n",
    "data = load_iris()\n",
    "df = data.data\n",
    "df = df[:,1:3]\n",
    " \n",
    "#Linkage Matrix\n",
    "Z = linkage(df, method = 'complete')\n",
    " \n",
    "#plotting dendrogram\n",
    "dendro = dendrogram(Z)\n",
    "plt.title('Dendrogram Complete')\n",
    "plt.ylabel('Euclidean distance')\n",
    "plt.show()"
   ]
  },
  {
   "cell_type": "code",
   "execution_count": 117,
   "metadata": {},
   "outputs": [
    {
     "data": {
      "text/plain": [
       "0.8266977962992434"
      ]
     },
     "execution_count": 117,
     "metadata": {},
     "output_type": "execute_result"
    }
   ],
   "source": [
    "from scipy.cluster.hierarchy import cophenet\n",
    "from scipy.spatial.distance import pdist\n",
    "\n",
    "c, coph_dists = cophenet(Z, pdist(df_scaled_ss))\n",
    "complete_c = c\n",
    "complete_c"
   ]
  },
  {
   "cell_type": "code",
   "execution_count": 118,
   "metadata": {},
   "outputs": [
    {
     "data": {
      "image/png": "[encoded data removed]",
      "text/plain": [
       "<Figure size 576x360 with 1 Axes>"
      ]
     },
     "metadata": {},
     "output_type": "display_data"
    }
   ],
   "source": [
    "from sklearn.datasets import load_iris\n",
    "from sklearn.cluster import AgglomerativeClustering\n",
    "import numpy as np\n",
    "import matplotlib.pyplot as plt\n",
    " \n",
    "data = load_iris()\n",
    "df = data.data\n",
    "df = df[:,1:3]\n",
    "\n",
    "agg_clustering = AgglomerativeClustering(n_clusters = 2, affinity = 'euclidean', linkage = 'complete')\n",
    " \n",
    "#predicting the labels\n",
    "labels = agg_clustering.fit_predict(df_scaled_ss)\n",
    " \n",
    "#Plotting the results\n",
    "plt.figure(figsize = (8,5))\n",
    "plt.scatter(df[labels == 0 , 0] , df[labels == 0 , 1] , c = 'red')\n",
    "plt.scatter(df[labels == 1 , 0] , df[labels == 1 , 1] , c = 'blue')\n",
    "plt.show()"
   ]
  },
  {
   "cell_type": "code",
   "execution_count": 119,
   "metadata": {},
   "outputs": [
    {
     "data": {
      "image/png": "[encoded data removed]",
      "text/plain": [
       "<Figure size 432x288 with 1 Axes>"
      ]
     },
     "metadata": {},
     "output_type": "display_data"
    }
   ],
   "source": [
    "#Importing libraries\n",
    "from sklearn.datasets import load_iris\n",
    "from sklearn.cluster import AgglomerativeClustering\n",
    "import numpy as np\n",
    "import matplotlib.pyplot as plt\n",
    "from scipy.cluster.hierarchy import dendrogram , linkage\n",
    " \n",
    "data = load_iris()\n",
    "df = data.data\n",
    "df = df[:,1:3]\n",
    " \n",
    "#Linkage Matrix\n",
    "Z = linkage(df, method = 'average')\n",
    " \n",
    "#plotting dendrogram\n",
    "dendro = dendrogram(Z)\n",
    "plt.title('Dendrogram Average')\n",
    "plt.ylabel('Euclidean distance')\n",
    "plt.show()"
   ]
  },
  {
   "cell_type": "code",
   "execution_count": 120,
   "metadata": {},
   "outputs": [
    {
     "data": {
      "text/plain": [
       "0.8258962007986093"
      ]
     },
     "execution_count": 120,
     "metadata": {},
     "output_type": "execute_result"
    }
   ],
   "source": [
    "from scipy.cluster.hierarchy import cophenet\n",
    "from scipy.spatial.distance import pdist\n",
    "\n",
    "c, coph_dists = cophenet(Z, pdist(df_scaled_ss))\n",
    "average_cophenet = c\n",
    "average_cophenet"
   ]
  },
  {
   "cell_type": "code",
   "execution_count": 121,
   "metadata": {},
   "outputs": [
    {
     "data": {
      "image/png": "[encoded data removed]",
      "text/plain": [
       "<Figure size 576x360 with 1 Axes>"
      ]
     },
     "metadata": {},
     "output_type": "display_data"
    }
   ],
   "source": [
    "from sklearn.datasets import load_iris\n",
    "from sklearn.cluster import AgglomerativeClustering\n",
    "import numpy as np\n",
    "import matplotlib.pyplot as plt\n",
    " \n",
    "data = load_iris()\n",
    "df = data.data\n",
    "df = df[:,1:3]\n",
    "\n",
    "agg_clustering = AgglomerativeClustering(n_clusters = 2, affinity = 'euclidean', linkage = 'average')\n",
    " \n",
    "#predicting the labels\n",
    "labels = agg_clustering.fit_predict(df_scaled_ss)\n",
    " \n",
    "#Plotting the results\n",
    "plt.figure(figsize = (8,5))\n",
    "plt.scatter(df[labels == 0 , 0] , df[labels == 0 , 1] , c = 'red')\n",
    "plt.scatter(df[labels == 1 , 0] , df[labels == 1 , 1] , c = 'blue')\n",
    "plt.show()"
   ]
  },
  {
   "cell_type": "code",
   "execution_count": 126,
   "metadata": {},
   "outputs": [
    {
     "data": {
      "image/png": "[encoded data removed]",
      "text/plain": [
       "<Figure size 360x270 with 1 Axes>"
      ]
     },
     "metadata": {},
     "output_type": "display_data"
    }
   ],
   "source": [
    "import matplotlib.pyplot as plt\n",
    "import seaborn as sns\n",
    "sns.set(style=\"whitegrid\")\n",
    "tips = sns.load_dataset(\"tips\")\n",
    "\n",
    "fig = plt.figure(figsize=(5,3.75))\n",
    "ax1 = sns.barplot(x=['Ward', 'Single', 'Complete', 'Average'], y=[ward_c, single_c, complete_c, average_cophenet],  \n",
    "                  ci = None, color='#5499c7')\n",
    "ax1.set_title('Cophenetic Coefficient for each Dendogram Method')\n",
    "ax1.set(xlabel='Method', ylabel='Cophenetic Coefficient')        \n",
    "plt.show()"
   ]
  },
  {
   "cell_type": "code",
   "execution_count": 131,
   "metadata": {},
   "outputs": [
    {
     "data": {
      "text/plain": [
       "0.8266977962992434"
      ]
     },
     "execution_count": 131,
     "metadata": {},
     "output_type": "execute_result"
    }
   ],
   "source": [
    "max([ward_c, single_c, complete_c, average_cophenet])"
   ]
  },
  {
   "cell_type": "code",
   "execution_count": 128,
   "metadata": {},
   "outputs": [
    {
     "data": {
      "text/plain": [
       "0.8266977962992434"
      ]
     },
     "execution_count": 128,
     "metadata": {},
     "output_type": "execute_result"
    }
   ],
   "source": [
    "max([ward_c, single_c, complete_c, average_cophenet])"
   ]
  },
  {
   "cell_type": "code",
   "execution_count": null,
   "metadata": {},
   "outputs": [],
   "source": []
  }
 ],
 "metadata": {
  "kernelspec": {
   "display_name": "Python 3",
   "language": "python",
   "name": "python3"
  },
  "language_info": {
   "codemirror_mode": {
    "name": "ipython",
    "version": 3
   },
   "file_extension": ".py",
   "mimetype": "text/x-python",
   "name": "python",
   "nbconvert_exporter": "python",
   "pygments_lexer": "ipython3",
   "version": "3.8.5"
  }
 },
 "nbformat": 4,
 "nbformat_minor": 4
}
